{
 "cells": [
  {
   "cell_type": "code",
   "execution_count": 1,
   "id": "parental-sierra",
   "metadata": {},
   "outputs": [],
   "source": [
    "import geopandas\n",
    "import pandas\n",
    "import sys\n",
    "sys.path.append(\"field/src\")\n",
    "import utils"
   ]
  },
  {
   "cell_type": "code",
   "execution_count": 2,
   "id": "efficient-maintenance",
   "metadata": {},
   "outputs": [],
   "source": [
    "lon, lat = -97.385551, 41.964567"
   ]
  },
  {
   "cell_type": "code",
   "execution_count": 3,
   "id": "d600260a-3293-49f1-98e7-292bd76b6da8",
   "metadata": {},
   "outputs": [],
   "source": [
    "lon_m, lat_m, epsg_utm = utils.convert_degree_to_meters(lon, lat)"
   ]
  },
  {
   "cell_type": "code",
   "execution_count": 4,
   "id": "cf92bcde-b37a-479c-b2c5-2c739fd70a92",
   "metadata": {},
   "outputs": [
    {
     "data": {
      "text/plain": [
       "633780.8816928765"
      ]
     },
     "execution_count": 4,
     "metadata": {},
     "output_type": "execute_result"
    }
   ],
   "source": [
    "lon_m"
   ]
  },
  {
   "cell_type": "code",
   "execution_count": 5,
   "id": "2eaf55e0-c2dd-4610-b61f-ae1c5d38585d",
   "metadata": {},
   "outputs": [
    {
     "data": {
      "text/plain": [
       "4647102.640750101"
      ]
     },
     "execution_count": 5,
     "metadata": {},
     "output_type": "execute_result"
    }
   ],
   "source": [
    "lat_m"
   ]
  },
  {
   "cell_type": "markdown",
   "id": "f403a3e1-742d-4ce2-9282-b16155d44dd0",
   "metadata": {},
   "source": [
    "#### Want a field that is approx 10 acres (ie 40468 square meters)"
   ]
  },
  {
   "cell_type": "markdown",
   "id": "15c65a5c-de32-42b8-b7f6-fcbed975b111",
   "metadata": {},
   "source": [
    "Propose a field that is 100 meters wide by 400 meters long"
   ]
  },
  {
   "cell_type": "markdown",
   "id": "56fe3687-2d48-4dbf-96c4-37ad0d178b56",
   "metadata": {},
   "source": [
    "`lon_m` and `lat_m` to be designated as the top right-corner of the field"
   ]
  },
  {
   "cell_type": "code",
   "execution_count": 6,
   "id": "7247a0e4-11eb-4f2d-a636-72eb9cd1977a",
   "metadata": {},
   "outputs": [],
   "source": [
    "lon_m_top_left = lon_m - 100\n",
    "lat_m_top_left = lat_m\n",
    "\n",
    "lon_m_bottom_left = lon_m_top_left\n",
    "lat_m_bottom_left = lat_m - 400\n",
    "\n",
    "lon_m_bottom_right = lon_m\n",
    "lat_m_bottom_right = lat_m_bottom_left"
   ]
  },
  {
   "cell_type": "code",
   "execution_count": 14,
   "id": "8c6591fd-46ca-4dde-84cb-6c216a0df315",
   "metadata": {},
   "outputs": [],
   "source": [
    "list_tuple_coords = [\n",
    "    (lon_m, lat_m),\n",
    "    (lon_m_top_left, lat_m_top_left),\n",
    "    (lon_m_bottom_left, lat_m_bottom_left),\n",
    "    (lon_m_bottom_right, lat_m_bottom_right),\n",
    "]\n",
    "\n",
    "polygon_utm = utils.create_polygon_from_list_tuple(list_tuple_coords)"
   ]
  },
  {
   "cell_type": "code",
   "execution_count": 15,
   "id": "0653265e-1e32-4d9a-8680-50b973acda79",
   "metadata": {},
   "outputs": [
    {
     "data": {
      "text/plain": [
       "40000.0"
      ]
     },
     "execution_count": 15,
     "metadata": {},
     "output_type": "execute_result"
    }
   ],
   "source": [
    "polygon_utm.area"
   ]
  },
  {
   "cell_type": "code",
   "execution_count": 10,
   "id": "a6b87881-b8f7-4a83-874e-8667e6fe5e37",
   "metadata": {},
   "outputs": [],
   "source": [
    "list_tuple_coords_degrees = [\n",
    "    utils.convert_meters_to_degree(lon, lat, epsg_utm) for (lon, lat) in list_tuple_coords\n",
    "]"
   ]
  },
  {
   "cell_type": "code",
   "execution_count": 11,
   "id": "c8051ea1-ce57-472f-9773-c7147bdd4514",
   "metadata": {},
   "outputs": [
    {
     "data": {
      "text/plain": [
       "[(-97.38555100000002, 41.964566999999995),\n",
       " (-97.38675732371843, 41.96458396139896),\n",
       " (-97.3868481872366, 41.96098270170655),\n",
       " (-97.38564193139067, 41.96096574243743)]"
      ]
     },
     "execution_count": 11,
     "metadata": {},
     "output_type": "execute_result"
    }
   ],
   "source": [
    "list_tuple_coords_degrees"
   ]
  },
  {
   "cell_type": "code",
   "execution_count": 12,
   "id": "67352bff-8a89-4afb-8bd5-b43d2a98a182",
   "metadata": {},
   "outputs": [],
   "source": [
    "polygon = utils.create_polygon_from_list_tuple(list_tuple_coords_degrees)"
   ]
  },
  {
   "cell_type": "code",
   "execution_count": 17,
   "id": "ccf4fd1e-5ed8-4b72-ac5e-a14fad89fe0b",
   "metadata": {},
   "outputs": [
    {
     "data": {
      "image/svg+xml": [
       "<svg xmlns=\"http://www.w3.org/2000/svg\" xmlns:xlink=\"http://www.w3.org/1999/xlink\" width=\"100.0\" height=\"100.0\" viewBox=\"-97.38699291599505 41.96082101367897 0.001586644753487576 0.0039076764784553575\" preserveAspectRatio=\"xMinYMin meet\"><g transform=\"matrix(1,0,0,-1,0,83.9255497038364)\"><path fill-rule=\"evenodd\" fill=\"#66cc99\" stroke=\"#555555\" stroke-width=\"7.815352956910715e-05\" opacity=\"0.6\" d=\"M -97.38555100000002,41.964566999999995 L -97.38675732371843,41.96458396139896 L -97.3868481872366,41.96098270170655 L -97.38564193139067,41.96096574243743 L -97.38555100000002,41.964566999999995 z\" /></g></svg>"
      ],
      "text/plain": [
       "<POLYGON ((-97.386 41.965, -97.387 41.965, -97.387 41.961, -97.386 41.961, -...>"
      ]
     },
     "execution_count": 17,
     "metadata": {},
     "output_type": "execute_result"
    }
   ],
   "source": [
    "polygon"
   ]
  },
  {
   "cell_type": "markdown",
   "id": "d38f33a1-2e6b-43da-a75e-210824ee1309",
   "metadata": {},
   "source": [
    "## Now that I have the boundary conditions of a field, I will populate that area with dummy data\n",
    "--> assume 2 treatments and a control, that is T1 | Control | T2\n",
    "--> Each treatment is comprised of "
   ]
  },
  {
   "cell_type": "code",
   "execution_count": null,
   "id": "1fc86615-2989-4c62-bb0e-88292e21b1f9",
   "metadata": {},
   "outputs": [],
   "source": []
  }
 ],
 "metadata": {
  "kernelspec": {
   "display_name": "py310_env",
   "language": "python",
   "name": "py310"
  },
  "language_info": {
   "codemirror_mode": {
    "name": "ipython",
    "version": 3
   },
   "file_extension": ".py",
   "mimetype": "text/x-python",
   "name": "python",
   "nbconvert_exporter": "python",
   "pygments_lexer": "ipython3",
   "version": "3.10.14"
  }
 },
 "nbformat": 4,
 "nbformat_minor": 5
}
